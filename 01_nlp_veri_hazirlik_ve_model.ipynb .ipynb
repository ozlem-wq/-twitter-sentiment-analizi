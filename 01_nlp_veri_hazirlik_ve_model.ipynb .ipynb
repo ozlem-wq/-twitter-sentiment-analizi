{
 "cells": [
  {
   "cell_type": "code",
   "execution_count": null,
   "id": "c9195c4b-e592-475d-a1d2-e493247de760",
   "metadata": {},
   "outputs": [],
   "source": [
    "import pandas as pd\n",
    "import re\n",
    "\n",
    "# 1. VERİ YÜKLEME\n",
    "# Veri yolunu, 'twitter-sentiment-analizi' klasörünüzdeki 'data/test.csv' konumuna göre ayarlayın.\n",
    "# Eğer dosya adınız farklıysa, 'test.csv' kısmını düzeltin.\n",
    "VERI_YOLU = r'data/test.csv' \n",
    "\n",
    "try:\n",
    "    # Veri setiniz genelde UTF-8 formatında olur, farklıysa encoding değiştirebiliriz.\n",
    "    df = pd.read_csv(VERI_YOLU)\n",
    "    print(\"✅ Veri başarıyla yüklendi.\")\n",
    "except FileNotFoundError:\n",
    "    print(f\"HATA: Dosya '{VERI_YOLU}' yolunda bulunamadı. Lütfen dosya yolunu kontrol edin.\")\n",
    "    exit() # Hata durumunda kodu durdururuz.\n",
    "\n",
    "# 2. TEMEL TEMİZLİK VE FİLTRELEME\n",
    "# Sadece text (tweet metni) ve label (etiket) sütunlarını alıyoruz.\n",
    "df = df[['text', 'label']] \n",
    "\n",
    "# 'Notr' etiketlerini kaldırıyoruz. Sadece 'Positive' ve 'Negative' kalacak.\n",
    "df = df[df['label'] != 'Notr'].reset_index(drop=True)\n",
    "print(f\"\\n✅ 'Notr' etiketleri kaldırıldı. Kalan veri satır sayısı: {len(df)}\")\n",
    "\n",
    "\n",
    "# 3. METİN TEMİZLİK FONKSİYONU\n",
    "def temel_metin_temizligi(text):\n",
    "    text = str(text)\n",
    "    # URL'leri kaldırma\n",
    "    text = re.sub(r'http\\S+|www\\S+|https\\S+', '', text, flags=re.MULTILINE)\n",
    "    # Kullanıcı adlarını (@kullanici) kaldırma\n",
    "    text = re.sub(r'@\\w+', '', text)\n",
    "    # Sadece harf ve boşlukları bırakma (noktalama işaretlerini, emojileri ve sayıları kaldırır)\n",
    "    text = re.sub(r'[^\\w\\s]', '', text)\n",
    "    # Sayıları kaldırma\n",
    "    text = re.sub(r'\\d+', '', text)\n",
    "    # Birden fazla boşluğu tek boşluğa indirme\n",
    "    text = re.sub(r'\\s+', ' ', text).strip()\n",
    "    # Tüm metni küçük harfe çevirme\n",
    "    text = text.lower()\n",
    "    return text\n",
    "\n",
    "# Temizleme işlemini uygulama\n",
    "df['text_temiz'] = df['text'].apply(temel_metin_temizligi)\n",
    "\n",
    "print(\"\\n✅ Temel metin temizliği (URL, kullanıcı adı, küçük harf) yapıldı.\")\n",
    "print(\"\\nİşlenmiş Veri Kontrolü (İlk 5 Satır):\")\n",
    "print(df[['text', 'text_temiz', 'label']].head())"
   ]
  },
  {
   "cell_type": "code",
   "execution_count": null,
   "id": "193699e5-d278-45b0-88fe-2ea61229be5b",
   "metadata": {},
   "outputs": [],
   "source": []
  }
 ],
 "metadata": {
  "kernelspec": {
   "display_name": "Python 3 (ipykernel)",
   "language": "python",
   "name": "python3"
  },
  "language_info": {
   "codemirror_mode": {
    "name": "ipython",
    "version": 3
   },
   "file_extension": ".py",
   "mimetype": "text/x-python",
   "name": "python",
   "nbconvert_exporter": "python",
   "pygments_lexer": "ipython3",
   "version": "3.13.6"
  }
 },
 "nbformat": 4,
 "nbformat_minor": 5
}
