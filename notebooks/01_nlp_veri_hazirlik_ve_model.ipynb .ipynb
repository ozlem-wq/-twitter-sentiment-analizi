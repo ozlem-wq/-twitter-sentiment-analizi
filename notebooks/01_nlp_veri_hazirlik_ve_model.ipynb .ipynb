{
 "cells": [
  {
   "cell_type": "code",
   "execution_count": 6,
   "id": "c9195c4b-e592-475d-a1d2-e493247de760",
   "metadata": {},
   "outputs": [
    {
     "name": "stdout",
     "output_type": "stream",
     "text": [
      "✅ Veri başarıyla yüklendi.\n",
      "\n",
      "✅ 'Notr' etiketleri kaldırıldı. Kalan veri satır sayısı: 31873\n",
      "\n",
      "✅ Temel metin temizliği yapıldı.\n",
      "\n",
      "İşlenmiş Veri Kontrolü (İlk 5 Satır):\n",
      "                                                text  \\\n",
      "0   ısrarla korkutmayı başarıyor. sanki korku çok...   \n",
      "1  i phone 5 ten sonra gene 4'' ekranı tercih ett...   \n",
      "2  arkadaşımın ofisinde gördüm,  tavsiyesi üzerin...   \n",
      "3   cok sıkıcı bir film birkaç oyuncunun iyi perf...   \n",
      "4  ürün çok kısa bir sürede geldi ve çok kullanış...   \n",
      "\n",
      "                                          text_temiz     label  \n",
      "0  ısrarla korkutmayı başarıyor sanki korku çok u...  Positive  \n",
      "1  i phone ten sonra gene ekranı tercih ettim tel...  Positive  \n",
      "2  arkadaşımın ofisinde gördüm tavsiyesi üzerine ...  Positive  \n",
      "3  cok sıkıcı bir film birkaç oyuncunun iyi perfo...  Negative  \n",
      "4  ürün çok kısa bir sürede geldi ve çok kullanış...  Positive  \n"
     ]
    }
   ],
   "source": [
    "import pandas as pd\n",
    "import re\n",
    "\n",
    "# 1. VERİ YÜKLEME\n",
    "# ARTIK TAM YOL KULLANIYORUZ, GÖRELİ YOL SORUNUNU AŞTIK.\n",
    "# r'' kullanmak, Windows yolundaki \\ işaretlerini doğru okumasını sağlar.\n",
    "VERI_YOLU = r\"C:\\Users\\ozlem\\OneDrive\\Belgeler\\GitHub\\-twitter-sentiment-analizi\\data\\test.csv\" \n",
    "\n",
    "try:\n",
    "    df = pd.read_csv(VERI_YOLU)\n",
    "    print(\"✅ Veri başarıyla yüklendi.\")\n",
    "except FileNotFoundError:\n",
    "    print(f\"HATA: Dosya '{VERI_YOLU}' yolunda hala bulunamıyor. Lütfen yolu manuel kontrol edin.\")\n",
    "    raise # Hata durumunda kodu tamamen durdururuz.\n",
    "\n",
    "# 2. TEMEL TEMİZLİK VE FİLTRELEME\n",
    "# Sadece text (tweet metni) ve label (etiket) sütunlarını alıyoruz.\n",
    "df = df[['text', 'label']] \n",
    "\n",
    "# 'Notr' etiketlerini kaldırıyoruz. Sadece 'Positive' ve 'Negative' kalacak.\n",
    "df = df[df['label'] != 'Notr'].reset_index(drop=True)\n",
    "print(f\"\\n✅ 'Notr' etiketleri kaldırıldı. Kalan veri satır sayısı: {len(df)}\")\n",
    "\n",
    "\n",
    "# 3. METİN TEMİZLİK FONKSİYONU\n",
    "def temel_metin_temizligi(text):\n",
    "    text = str(text)\n",
    "    # URL'leri, kullanıcı adlarını, noktalama ve sayıları temizler\n",
    "    text = re.sub(r'http\\S+|www\\S+|https\\S+|@\\w+|[^\\w\\s]|\\d+', '', text, flags=re.MULTILINE)\n",
    "    # Birden fazla boşluğu tek boşluğa indirme ve küçük harfe çevirme\n",
    "    text = re.sub(r'\\s+', ' ', text).strip().lower()\n",
    "    return text\n",
    "\n",
    "# Temizleme işlemini uygulama\n",
    "df['text_temiz'] = df['text'].apply(temel_metin_temizligi)\n",
    "\n",
    "print(\"\\n✅ Temel metin temizliği yapıldı.\")\n",
    "print(\"\\nİşlenmiş Veri Kontrolü (İlk 5 Satır):\")\n",
    "print(df[['text', 'text_temiz', 'label']].head())\n"
   ]
  },
  {
   "cell_type": "code",
   "execution_count": 7,
   "id": "68186dc3-faff-4f3e-a1f3-39f2c1882063",
   "metadata": {},
   "outputs": [
    {
     "name": "stderr",
     "output_type": "stream",
     "text": [
      "[nltk_data] Downloading package punkt_tab to\n",
      "[nltk_data]     C:\\Users\\ozlem\\AppData\\Roaming\\nltk_data...\n",
      "[nltk_data]   Package punkt_tab is already up-to-date!\n"
     ]
    },
    {
     "data": {
      "text/plain": [
       "True"
      ]
     },
     "execution_count": 7,
     "metadata": {},
     "output_type": "execute_result"
    }
   ],
   "source": [
    "import nltk\n",
    "# Türkçe tokenization için gereken kaynak\n",
    "nltk.download('punkt_tab')"
   ]
  },
  {
   "cell_type": "code",
   "execution_count": 8,
   "id": "193699e5-d278-45b0-88fe-2ea61229be5b",
   "metadata": {},
   "outputs": [
    {
     "name": "stderr",
     "output_type": "stream",
     "text": [
      "[nltk_data] Downloading package punkt to\n",
      "[nltk_data]     C:\\Users\\ozlem\\AppData\\Roaming\\nltk_data...\n",
      "[nltk_data]   Package punkt is already up-to-date!\n"
     ]
    },
    {
     "name": "stdout",
     "output_type": "stream",
     "text": [
      "✅ Stopwords ve Tokenization tamamlandı.\n",
      "\n",
      "İşlenmiş Veri Kontrolü:\n",
      "                                                text  \\\n",
      "0   ısrarla korkutmayı başarıyor. sanki korku çok...   \n",
      "1  i phone 5 ten sonra gene 4'' ekranı tercih ett...   \n",
      "2  arkadaşımın ofisinde gördüm,  tavsiyesi üzerin...   \n",
      "3   cok sıkıcı bir film birkaç oyuncunun iyi perf...   \n",
      "4  ürün çok kısa bir sürede geldi ve çok kullanış...   \n",
      "\n",
      "                                          text_temiz  \n",
      "0  ısrarla korkutmayı başarıyor sanki korku uzun ...  \n",
      "1  phone ten sonra gene ekranı tercih ettim telef...  \n",
      "2  arkadaşımın ofisinde gördüm tavsiyesi üzerine ...  \n",
      "3  cok sıkıcı bir film oyuncunun iyi performansı ...  \n",
      "4  ürün kısa bir sürede geldi kullanışlı arabamız...  \n"
     ]
    }
   ],
   "source": [
    "\n",
    "from nltk.corpus import stopwords\n",
    "from nltk.tokenize import word_tokenize\n",
    "\n",
    "# NLTK kütüphanesini kullanmak için gerekli Türkçe dosyasını indirme (ilk çalıştırmada gereklidir)\n",
    "try:\n",
    "    # Bu adımı daha önce yapmıştık, ama emin olmak için burada kalsın.\n",
    "    nltk.download('punkt')\n",
    "except:\n",
    "    print(\"NLTK 'punkt' zaten yüklü.\")\n",
    "\n",
    "# --- 1. Türkçe Stopwords Listesi ---\n",
    "turkce_stopwords = set([\n",
    "    \"a\", \"acaba\", \"ama\", \"aslında\", \"az\", \"bazı\", \"belki\", \"biri\", \"birkaç\", \"birşey\", \"biz\", \"böyle\", \n",
    "    \"bunu\", \"çünkü\", \"çok\", \"çoğu\", \"de\", \"da\", \"daha\", \"diye\", \"eğer\", \"fakat\", \"falan\", \"filan\", \n",
    "    \"gibi\", \"hâlâ\", \"hangi\", \"hemen\", \"her\", \"herkes\", \"hiç\", \"için\", \"ile\", \"ise\", \"ya\", \"ve\", \n",
    "    \"kim\", \"mı\", \"mı\", \"mu\", \"mü\", \"nasıl\", \"ne\", \"neden\", \"nedense\", \"nerde\", \"nereye\", \"niye\", \n",
    "    \"o\", \"oysa\", \"oysaki\", \"öbürü\", \"ön\", \"şayet\", \"şey\", \"şu\", \"tüm\", \"tek\", \"üzere\", \"yoksa\",\n",
    "    \"bu\", \"şu\", \"ki\", \"mi\", \"mı\", \"mu\", \"mü\", \"ne\", \"niye\", \"hangi\", \"kime\", \"kimden\"\n",
    "])\n",
    "\n",
    "# --- 2. Stopwords Kaldırma ve Tokenization Fonksiyonu ---\n",
    "def stopword_ve_tokenize(text):\n",
    "    tokens = word_tokenize(text, language='turkish')\n",
    "    filtered_tokens = [word for word in tokens if word not in turkce_stopwords and len(word) > 1]\n",
    "    return \" \".join(filtered_tokens) \n",
    "\n",
    "# Uygulama\n",
    "df['text_temiz'] = df['text_temiz'].apply(stopword_ve_tokenize)\n",
    "\n",
    "print(\"✅ Stopwords ve Tokenization tamamlandı.\")\n",
    "print(\"\\nİşlenmiş Veri Kontrolü:\")\n",
    "print(df[['text', 'text_temiz']].head())\n",
    "\n"
   ]
  },
  {
   "cell_type": "code",
   "execution_count": 9,
   "id": "02b1d3e1-8066-471d-b6ad-45811f0550d8",
   "metadata": {},
   "outputs": [
    {
     "name": "stdout",
     "output_type": "stream",
     "text": [
      "✅ Etiketler Sayısallaştırıldı. (0: Negative, 1: Positive)\n",
      "\n",
      "✅ Veri, eğitim ve test setlerine ayrıldı.\n",
      "Eğitim Seti Büyüklüğü: 25498 satır\n",
      "Test Seti Büyüklüğü: 6375 satır\n"
     ]
    }
   ],
   "source": [
    "from sklearn.model_selection import train_test_split\n",
    "from sklearn.preprocessing import LabelEncoder\n",
    "\n",
    "# --- 1. Etiketleri Sayısallaştırma (Negative=0, Positive=1) ---\n",
    "le = LabelEncoder()\n",
    "# Etiketleri dönüştürme: Negative -> 0, Positive -> 1\n",
    "df['label_sayisal'] = le.fit_transform(df['label']) \n",
    "print(\"✅ Etiketler Sayısallaştırıldı. (0: Negative, 1: Positive)\")\n",
    "\n",
    "# --- 2. Veriyi Bağımlı ve Bağımsız Değişkenlere Ayırma ---\n",
    "# X: Temizlenmiş Metin (bağımsız değişken)\n",
    "# y: Sayısallaştırılmış Etiket (bağımlı değişken)\n",
    "X = df['text_temiz']\n",
    "y = df['label_sayisal']\n",
    "\n",
    "# --- 3. Eğitim ve Test Setlerine Ayırma (Model Eğitimi için) ---\n",
    "# Verinin %80'i eğitim, %20'si test için kullanılacak.\n",
    "X_train, X_test, y_train, y_test = train_test_split(X, y, test_size=0.2, stratify=y, random_state=42)\n",
    "\n",
    "print(f\"\\n✅ Veri, eğitim ve test setlerine ayrıldı.\")\n",
    "print(f\"Eğitim Seti Büyüklüğü: {len(X_train)} satır\")\n",
    "print(f\"Test Seti Büyüklüğü: {len(X_test)} satır\")"
   ]
  },
  {
   "cell_type": "code",
   "execution_count": 10,
   "id": "cececaab-fe79-4bfd-8a1f-d503369db5e2",
   "metadata": {},
   "outputs": [
    {
     "name": "stdout",
     "output_type": "stream",
     "text": [
      "✅ TF-IDF Vektörleştirme tamamlandı.\n",
      "Eğitim Matrisi Şekli (Satır, Özellik/Kelime Sayısı): (25498, 5000)\n"
     ]
    }
   ],
   "source": [
    "from sklearn.feature_extraction.text import TfidfVectorizer\n",
    "\n",
    "# TF-IDF Vektörleyici Oluşturma\n",
    "# max_features: En sık kullanılan 5000 kelimeyi alıyoruz.\n",
    "# ngram_range: Tekli kelimelerin yanı sıra ikili kelime gruplarını da dahil ediyoruz.\n",
    "vectorizer = TfidfVectorizer(max_features=5000, ngram_range=(1, 2))\n",
    "\n",
    "# Eğitim verisi üzerinde eğitme ve DÖNÜŞTÜRME\n",
    "X_train_vec = vectorizer.fit_transform(X_train)\n",
    "\n",
    "# Test verisini dönüştürme (Sadece transform, fit değil!)\n",
    "X_test_vec = vectorizer.transform(X_test)\n",
    "\n",
    "print(\"✅ TF-IDF Vektörleştirme tamamlandı.\")\n",
    "print(f\"Eğitim Matrisi Şekli (Satır, Özellik/Kelime Sayısı): {X_train_vec.shape}\")"
   ]
  },
  {
   "cell_type": "code",
   "execution_count": 12,
   "id": "13f1d106-a869-4e0a-aeaf-d37e636764f1",
   "metadata": {},
   "outputs": [
    {
     "name": "stdout",
     "output_type": "stream",
     "text": [
      "Model Eğitimi Başlıyor...\n",
      "✅ Model Eğitimi Tamamlandı. Süre: 0.14 saniye\n",
      "\n",
      "==================================================\n",
      "             MODEL PERFORMANS RAPORU\n",
      "==================================================\n",
      "Genel Doğruluk (Accuracy): 0.9095\n",
      "\n",
      "Sınıflandırma Raporu (Classification Report):\n",
      "              precision    recall  f1-score   support\n",
      "\n",
      "Negative (0)       0.86      0.58      0.69      1131\n",
      "Positive (1)       0.92      0.98      0.95      5244\n",
      "\n",
      "    accuracy                           0.91      6375\n",
      "   macro avg       0.89      0.78      0.82      6375\n",
      "weighted avg       0.91      0.91      0.90      6375\n",
      "\n",
      "Hata Matrisi (Confusion Matrix):\n",
      "[[ 657  474]\n",
      " [ 103 5141]]\n"
     ]
    }
   ],
   "source": [
    "from sklearn.linear_model import LogisticRegression\n",
    "from sklearn.metrics import classification_report, accuracy_score, confusion_matrix\n",
    "import time\n",
    "import pandas as pd # Import'ları tamamlamak için ekledik\n",
    "\n",
    "# --- 1. Model Eğitimi ---\n",
    "print(\"Model Eğitimi Başlıyor...\")\n",
    "start_time = time.time()\n",
    "\n",
    "# Lojistik Regresyon modelini tanımlama\n",
    "# solver='liblinear' büyük veri setleri için hızlıdır.\n",
    "model = LogisticRegression(solver='liblinear', random_state=42, max_iter=1000)\n",
    "\n",
    "# Modeli eğitme (X_train_vec: TF-IDF matrisi, y_train: Sayısallaştırılmış etiketler)\n",
    "model.fit(X_train_vec, y_train)\n",
    "\n",
    "end_time = time.time()\n",
    "print(f\"✅ Model Eğitimi Tamamlandı. Süre: {end_time - start_time:.2f} saniye\")\n",
    "\n",
    "# --- 2. Tahmin Yapma ---\n",
    "# X_test_vec test verisi üzerinde tahmin yapma\n",
    "y_pred = model.predict(X_test_vec)\n",
    "\n",
    "# --- 3. Model Performansını Değerlendirme ---\n",
    "print(\"\\n\" + \"=\"*50)\n",
    "print(\"             MODEL PERFORMANS RAPORU\")\n",
    "print(\"=\"*50)\n",
    "\n",
    "# Doğruluk (Accuracy) Skoru\n",
    "accuracy = accuracy_score(y_test, y_pred)\n",
    "print(f\"Genel Doğruluk (Accuracy): {accuracy:.4f}\\n\")\n",
    "\n",
    "# Detaylı Sınıflandırma Raporu (Precision, Recall, F1-Score)\n",
    "print(\"Sınıflandırma Raporu (Classification Report):\")\n",
    "# target_names: 0'ın Negative, 1'in Positive olduğunu belirtir\n",
    "print(classification_report(y_test, y_pred, target_names=['Negative (0)', 'Positive (1)']))\n",
    "\n",
    "# Hata Matrisi (Confusion Matrix)\n",
    "conf_mat = confusion_matrix(y_test, y_pred)\n",
    "print(\"Hata Matrisi (Confusion Matrix):\")\n",
    "print(conf_mat)"
   ]
  },
  {
   "cell_type": "code",
   "execution_count": null,
   "id": "ccf25ccd-8919-43c4-8713-b3da1702f658",
   "metadata": {},
   "outputs": [],
   "source": []
  },
  {
   "cell_type": "code",
   "execution_count": null,
   "id": "5b8af17f-448b-4d6d-bb94-2a2cd5d66aca",
   "metadata": {},
   "outputs": [],
   "source": []
  }
 ],
 "metadata": {
  "kernelspec": {
   "display_name": "Python 3 (ipykernel)",
   "language": "python",
   "name": "python3"
  },
  "language_info": {
   "codemirror_mode": {
    "name": "ipython",
    "version": 3
   },
   "file_extension": ".py",
   "mimetype": "text/x-python",
   "name": "python",
   "nbconvert_exporter": "python",
   "pygments_lexer": "ipython3",
   "version": "3.13.6"
  }
 },
 "nbformat": 4,
 "nbformat_minor": 5
}
